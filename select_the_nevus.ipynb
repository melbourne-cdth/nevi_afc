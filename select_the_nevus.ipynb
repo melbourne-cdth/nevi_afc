{
 "cells": [
  {
   "cell_type": "markdown",
   "metadata": {},
   "source": [
    "# What Defines Quality in Medicine?\n",
    "\n",
    "If you were to ask a medical imaging researcher (a well informed researcher), \"What defines image quality?\" she would response, \"Image quality is always tasks dependent and is related to the ability to accurately extract relevant information from the image.\"\n",
    "\n",
    "The same goes for documents. A quality document is a document from which you can accurately extract relevant information from the document. Here is a simple experiment to explore this. I have taken the descriptions you created earlier in the term of one of the four randomly selected moles.\n",
    "\n",
    "In the experiment below, you will be shown a description of a mole written by one of the students. You then select which of the four moles (a-d) you believe is being described.\n",
    "\n",
    "\n",
    "\n",
    "## Instructions\n",
    "\n",
    "- Run each of the cells below\n",
    "- For the displayed description, in the dropdown menu select the label for the image you believe is being described. After selecting the label, click on the \"Submit\" button. This will save your response and bring up the next case.\n",
    "- After you have done all the cases, a download link will be generated. Clicking on the link should download a file `mydata.json.gz`. Submit this file to Canvas to complete the assignment."
   ]
  },
  {
   "cell_type": "code",
   "execution_count": null,
   "metadata": {},
   "outputs": [],
   "source": [
    "from cdsutils.afc.afc import *"
   ]
  },
  {
   "cell_type": "code",
   "execution_count": null,
   "metadata": {},
   "outputs": [],
   "source": [
    "a = AFC4()\n",
    "a"
   ]
  },
  {
   "cell_type": "code",
   "execution_count": null,
   "metadata": {},
   "outputs": [],
   "source": []
  }
 ],
 "metadata": {
  "kernelspec": {
   "display_name": "Python 3",
   "language": "python",
   "name": "python3"
  },
  "language_info": {
   "codemirror_mode": {
    "name": "ipython",
    "version": 3
   },
   "file_extension": ".py",
   "mimetype": "text/x-python",
   "name": "python",
   "nbconvert_exporter": "python",
   "pygments_lexer": "ipython3",
   "version": "3.8.10"
  }
 },
 "nbformat": 4,
 "nbformat_minor": 4
}
